{
 "cells": [
  {
   "cell_type": "markdown",
   "metadata": {},
   "source": [
    "# Classify the images for dogs\n",
    "Load libs"
   ]
  },
  {
   "cell_type": "code",
   "execution_count": 87,
   "metadata": {},
   "outputs": [],
   "source": [
    "import os\n",
    "os.environ['CUDA_VISIBLE_DEVICES'] = '-1'\n",
    "import numpy as np\n",
    "import random\n",
    "import matplotlib.pyplot as plt\n",
    "from PIL import Image, ImageDraw, ImageFont\n",
    "from sklearn.preprocessing import LabelEncoder\n",
    "from sklearn.model_selection import train_test_split\n",
    "\n",
    "import torch\n",
    "from torch.utils.data import TensorDataset, DataLoader\n",
    "import torch.nn as nn\n",
    "import torch.nn.functional as F\n",
    "from torchsummary import summary\n",
    "import torch.optim as optim\n",
    "\n",
    "from torch.utils.tensorboard import SummaryWriter\n",
    "import torchvision\n",
    "import torchvision.transforms as transforms\n",
    "\n",
    "import tensorflow as tf\n",
    "from tensorflow.keras.utils import to_categorical, plot_model # to convert out folders to catogeries\n",
    "\n",
    "import cv2\n",
    "import datetime\n",
    "import timeit"
   ]
  },
  {
   "cell_type": "markdown",
   "metadata": {},
   "source": [
    "# Helper function to load images"
   ]
  },
  {
   "cell_type": "code",
   "execution_count": 88,
   "metadata": {},
   "outputs": [],
   "source": [
    "def load_images_from_folder(folder, image_size=(150, 150)):\n",
    "    images = []\n",
    "    labels = []\n",
    "    for label in os.listdir(folder):\n",
    "        label_path = os.path.join(folder, label)\n",
    "        if os.path.isdir(label_path):\n",
    "            for filename in os.listdir(label_path):\n",
    "                img_path = os.path.join(label_path, filename)\n",
    "                img = Image.open(img_path)\n",
    "                img = img.resize(image_size)\n",
    "                img = np.array(img)\n",
    "                images.append(img)\n",
    "                labels.append(label)\n",
    "    return np.array(images), np.array(labels)"
   ]
  },
  {
   "cell_type": "markdown",
   "metadata": {},
   "source": [
    "# Load data"
   ]
  },
  {
   "cell_type": "code",
   "execution_count": 89,
   "metadata": {},
   "outputs": [],
   "source": [
    "data_dir = './dataset_dogs/'\n",
    "image_size = (150, 150)"
   ]
  },
  {
   "cell_type": "markdown",
   "metadata": {},
   "source": [
    "### Load the images"
   ]
  },
  {
   "cell_type": "code",
   "execution_count": 90,
   "metadata": {},
   "outputs": [],
   "source": [
    "X, y = load_images_from_folder(data_dir, image_size)"
   ]
  },
  {
   "cell_type": "markdown",
   "metadata": {},
   "source": [
    "### Normalize pixel values to be between 0 and 1"
   ]
  },
  {
   "cell_type": "code",
   "execution_count": 91,
   "metadata": {},
   "outputs": [],
   "source": [
    "X = X / 255.0"
   ]
  },
  {
   "cell_type": "markdown",
   "metadata": {},
   "source": [
    "### Encode labels to integers"
   ]
  },
  {
   "cell_type": "code",
   "execution_count": 92,
   "metadata": {},
   "outputs": [],
   "source": [
    "label_encoder = LabelEncoder()\n",
    "y = label_encoder.fit_transform(y)"
   ]
  },
  {
   "cell_type": "markdown",
   "metadata": {},
   "source": [
    "### Convert labels to one-hot encoding"
   ]
  },
  {
   "cell_type": "code",
   "execution_count": 93,
   "metadata": {},
   "outputs": [
    {
     "name": "stdout",
     "output_type": "stream",
     "text": [
      "No. of classes =  10\n"
     ]
    }
   ],
   "source": [
    "y = to_categorical(y)\n",
    "classes = len(label_encoder.classes_)\n",
    "print(\"No. of classes = \", classes)"
   ]
  },
  {
   "cell_type": "markdown",
   "metadata": {},
   "source": [
    "# Split data into training and validation sets"
   ]
  },
  {
   "cell_type": "code",
   "execution_count": 94,
   "metadata": {},
   "outputs": [],
   "source": [
    "X_train, X_val, y_train, y_val = train_test_split(X, y, test_size=0.2, random_state=42)"
   ]
  },
  {
   "cell_type": "markdown",
   "metadata": {},
   "source": [
    "## Convert the data into torch tensor"
   ]
  },
  {
   "cell_type": "code",
   "execution_count": 95,
   "metadata": {},
   "outputs": [
    {
     "name": "stdout",
     "output_type": "stream",
     "text": [
      "X_train shape: torch.Size([773, 3, 150, 150])\n",
      "X_val shape: torch.Size([194, 3, 150, 150])\n",
      "y_train shape: torch.Size([773, 10])\n",
      "y_val shape: torch.Size([194, 10])\n"
     ]
    }
   ],
   "source": [
    "# Convert data to PyTorch tensors\n",
    "X_train_tensor = torch.tensor(X_train, dtype=torch.float32).permute(0, 3, 1, 2)  # Change to (batch, channels, height, width)\n",
    "X_val_tensor = torch.tensor(X_val, dtype=torch.float32).permute(0, 3, 1, 2)\n",
    "y_train_tensor = torch.tensor(y_train, dtype=torch.float32)\n",
    "y_val_tensor = torch.tensor(y_val, dtype=torch.float32)\n",
    "\n",
    "_, y_train_class = torch.max(y_train_tensor, 1)\n",
    "_, y_val_class = torch.max(y_val_tensor, 1)\n",
    "\n",
    "# Create TensorDatasets\n",
    "train_dataset = TensorDataset(X_train_tensor, y_train_class)\n",
    "val_dataset = TensorDataset(X_val_tensor, y_val_class)\n",
    "\n",
    "# Create DataLoaders\n",
    "train_loader = DataLoader(train_dataset, batch_size = 32, shuffle = True)\n",
    "val_loader = DataLoader(val_dataset, batch_size = 32, shuffle = False)\n",
    "\n",
    "# Print shapes to confirm\n",
    "print(f'X_train shape: {X_train_tensor.shape}')\n",
    "print(f'X_val shape: {X_val_tensor.shape}')\n",
    "print(f'y_train shape: {y_train_tensor.shape}')\n",
    "print(f'y_val shape: {y_val_tensor.shape}')"
   ]
  },
  {
   "cell_type": "markdown",
   "metadata": {},
   "source": [
    "# Define the CNN model"
   ]
  },
  {
   "cell_type": "code",
   "execution_count": 96,
   "metadata": {},
   "outputs": [
    {
     "name": "stdout",
     "output_type": "stream",
     "text": [
      "----------------------------------------------------------------\n",
      "        Layer (type)               Output Shape         Param #\n",
      "================================================================\n",
      "            Conv2d-1         [-1, 32, 148, 148]             896\n",
      "         MaxPool2d-2           [-1, 32, 74, 74]               0\n",
      "            Conv2d-3           [-1, 64, 72, 72]          18,496\n",
      "         MaxPool2d-4           [-1, 64, 36, 36]               0\n",
      "            Conv2d-5          [-1, 128, 34, 34]          73,856\n",
      "         MaxPool2d-6          [-1, 128, 17, 17]               0\n",
      "           Flatten-7                [-1, 36992]               0\n",
      "            Linear-8                  [-1, 512]      18,940,416\n",
      "           Dropout-9                  [-1, 512]               0\n",
      "           Linear-10                   [-1, 10]           5,130\n",
      "================================================================\n",
      "Total params: 19,038,794\n",
      "Trainable params: 19,038,794\n",
      "Non-trainable params: 0\n",
      "----------------------------------------------------------------\n",
      "Input size (MB): 0.26\n",
      "Forward/backward pass size (MB): 11.55\n",
      "Params size (MB): 72.63\n",
      "Estimated Total Size (MB): 84.43\n",
      "----------------------------------------------------------------\n"
     ]
    }
   ],
   "source": [
    "class torch_dog_CNN(nn.Module):\n",
    "    def __init__(self, classes):\n",
    "        super(torch_dog_CNN, self).__init__()\n",
    "        self.conv1 = nn.Conv2d(in_channels = 3, out_channels = 32, kernel_size = 3)\n",
    "        self.pool1 = nn.MaxPool2d(kernel_size = 2, stride = 2)\n",
    "        self.conv2 = nn.Conv2d(in_channels = 32, out_channels = 64, kernel_size = 3)\n",
    "        self.pool2 = nn.MaxPool2d(kernel_size = 2, stride = 2)\n",
    "        self.conv3 = nn.Conv2d(in_channels = 64, out_channels = 128, kernel_size = 3)\n",
    "        self.pool3 = nn.MaxPool2d(kernel_size = 2, stride = 2)\n",
    "        self.flatten = nn.Flatten()\n",
    "        self.fc1 = nn.Linear(128 * 17 * 17, 512) # check tensor model summary\n",
    "        self.dropout = nn.Dropout(0.5)\n",
    "        self.fc2 = nn.Linear(512, len(label_encoder.classes_) )\n",
    "                             \n",
    "    def forward(self, x):\n",
    "        x = F.relu(self.conv1(x))\n",
    "        x = self.pool1(x)\n",
    "        x = F.relu(self.conv2(x))\n",
    "        x = self.pool2(x)\n",
    "        x = F.relu(self.conv3(x))\n",
    "        x = self.pool3(x)\n",
    "        x = self.flatten(x)\n",
    "        x = F.relu(self.fc1(x))\n",
    "        x = self.dropout(x)\n",
    "        x = F.softmax(self.fc2(x), dim = 1)\n",
    "        return x\n",
    "\n",
    "\n",
    "# Compile the model\n",
    "model_torch = torch_dog_CNN(classes)\n",
    "\n",
    "summary(model_torch, input_size=(3, 150, 150))"
   ]
  },
  {
   "cell_type": "markdown",
   "metadata": {},
   "source": [
    "## Train the model"
   ]
  },
  {
   "cell_type": "code",
   "execution_count": 97,
   "metadata": {},
   "outputs": [],
   "source": [
    "# Set up TensorBoard callback\n",
    "log_dir = \"logs/fit_torch/\" + datetime.datetime.now().strftime(\"%Y%m%d-%H%M%S\")\n",
    "writer = SummaryWriter(log_dir = log_dir)\n",
    "tensorboard_callback = tf.keras.callbacks.TensorBoard(log_dir=log_dir, histogram_freq=1)"
   ]
  },
  {
   "cell_type": "markdown",
   "metadata": {},
   "source": [
    "## Start the training"
   ]
  },
  {
   "cell_type": "code",
   "execution_count": 133,
   "metadata": {},
   "outputs": [
    {
     "name": "stdout",
     "output_type": "stream",
     "text": [
      "Epoch [1/100], Train Loss: 1.4674, Val Loss: 1.4964, Val Accuracy: 95.88%\n",
      "Epoch [2/100], Train Loss: 1.4685, Val Loss: 1.4965, Val Accuracy: 95.88%\n",
      "Epoch [3/100], Train Loss: 1.4675, Val Loss: 1.4968, Val Accuracy: 95.88%\n",
      "Epoch [4/100], Train Loss: 1.4687, Val Loss: 1.4969, Val Accuracy: 95.88%\n",
      "Epoch [5/100], Train Loss: 1.4771, Val Loss: 1.4965, Val Accuracy: 95.88%\n",
      "Epoch [6/100], Train Loss: 1.4702, Val Loss: 1.4966, Val Accuracy: 95.88%\n",
      "Epoch [7/100], Train Loss: 1.4711, Val Loss: 1.4967, Val Accuracy: 95.88%\n",
      "Epoch [8/100], Train Loss: 1.4729, Val Loss: 1.4963, Val Accuracy: 95.88%\n",
      "Epoch [9/100], Train Loss: 1.4686, Val Loss: 1.4968, Val Accuracy: 95.88%\n",
      "Epoch [10/100], Train Loss: 1.4736, Val Loss: 1.4968, Val Accuracy: 95.88%\n",
      "Epoch [11/100], Train Loss: 1.4686, Val Loss: 1.4968, Val Accuracy: 95.88%\n",
      "Epoch [12/100], Train Loss: 1.4687, Val Loss: 1.4968, Val Accuracy: 95.88%\n",
      "Epoch [13/100], Train Loss: 1.4686, Val Loss: 1.4968, Val Accuracy: 95.88%\n",
      "Epoch [14/100], Train Loss: 1.4712, Val Loss: 1.4969, Val Accuracy: 95.88%\n",
      "Epoch [15/100], Train Loss: 1.4734, Val Loss: 1.4969, Val Accuracy: 95.88%\n",
      "Epoch [16/100], Train Loss: 1.4686, Val Loss: 1.4968, Val Accuracy: 95.88%\n",
      "Epoch [17/100], Train Loss: 1.4674, Val Loss: 1.4966, Val Accuracy: 95.88%\n",
      "Epoch [18/100], Train Loss: 1.4699, Val Loss: 1.4967, Val Accuracy: 95.88%\n",
      "Epoch [19/100], Train Loss: 1.4686, Val Loss: 1.4968, Val Accuracy: 95.88%\n",
      "Epoch [20/100], Train Loss: 1.4674, Val Loss: 1.4969, Val Accuracy: 95.88%\n",
      "Epoch [21/100], Train Loss: 1.4708, Val Loss: 1.4963, Val Accuracy: 95.88%\n",
      "Epoch [22/100], Train Loss: 1.4802, Val Loss: 1.4969, Val Accuracy: 95.88%\n",
      "Epoch [23/100], Train Loss: 1.4709, Val Loss: 1.4965, Val Accuracy: 95.88%\n",
      "Epoch [24/100], Train Loss: 1.4747, Val Loss: 1.4968, Val Accuracy: 95.88%\n",
      "Epoch [25/100], Train Loss: 1.4740, Val Loss: 1.4968, Val Accuracy: 95.88%\n",
      "Epoch [26/100], Train Loss: 1.4734, Val Loss: 1.4966, Val Accuracy: 95.88%\n",
      "Epoch [27/100], Train Loss: 1.4749, Val Loss: 1.4968, Val Accuracy: 95.88%\n",
      "Epoch [28/100], Train Loss: 1.4810, Val Loss: 1.4969, Val Accuracy: 95.88%\n",
      "Epoch [29/100], Train Loss: 1.4768, Val Loss: 1.4969, Val Accuracy: 95.88%\n",
      "Epoch [30/100], Train Loss: 1.4699, Val Loss: 1.4968, Val Accuracy: 95.88%\n",
      "Epoch [31/100], Train Loss: 1.4711, Val Loss: 1.4969, Val Accuracy: 95.88%\n",
      "Epoch [32/100], Train Loss: 1.4687, Val Loss: 1.4796, Val Accuracy: 97.94%\n",
      "Epoch [33/100], Train Loss: 1.4712, Val Loss: 1.4940, Val Accuracy: 95.88%\n",
      "Epoch [34/100], Train Loss: 1.4710, Val Loss: 1.4969, Val Accuracy: 95.88%\n",
      "Epoch [35/100], Train Loss: 1.4687, Val Loss: 1.4967, Val Accuracy: 95.88%\n",
      "Epoch [36/100], Train Loss: 1.5010, Val Loss: 1.5147, Val Accuracy: 93.81%\n",
      "Epoch [37/100], Train Loss: 1.5105, Val Loss: 1.5059, Val Accuracy: 94.85%\n",
      "Epoch [38/100], Train Loss: 1.5232, Val Loss: 1.4969, Val Accuracy: 95.88%\n",
      "Epoch [39/100], Train Loss: 1.5296, Val Loss: 1.4969, Val Accuracy: 95.88%\n",
      "Epoch [40/100], Train Loss: 1.5012, Val Loss: 1.4969, Val Accuracy: 95.88%\n",
      "Epoch [41/100], Train Loss: 1.5015, Val Loss: 1.5683, Val Accuracy: 95.36%\n",
      "Epoch [42/100], Train Loss: 1.4913, Val Loss: 1.4968, Val Accuracy: 95.88%\n",
      "Epoch [43/100], Train Loss: 1.4748, Val Loss: 1.4967, Val Accuracy: 95.88%\n",
      "Epoch [44/100], Train Loss: 1.4813, Val Loss: 1.4968, Val Accuracy: 95.88%\n",
      "Epoch [45/100], Train Loss: 1.4773, Val Loss: 1.4964, Val Accuracy: 95.88%\n",
      "Epoch [46/100], Train Loss: 1.4839, Val Loss: 1.5011, Val Accuracy: 95.36%\n",
      "Epoch [47/100], Train Loss: 1.4756, Val Loss: 1.4969, Val Accuracy: 95.88%\n",
      "Epoch [48/100], Train Loss: 1.4725, Val Loss: 1.4969, Val Accuracy: 95.88%\n",
      "Epoch [49/100], Train Loss: 1.4686, Val Loss: 1.4969, Val Accuracy: 95.88%\n",
      "Epoch [50/100], Train Loss: 1.4749, Val Loss: 1.4969, Val Accuracy: 95.88%\n",
      "Epoch [51/100], Train Loss: 1.4749, Val Loss: 1.4969, Val Accuracy: 95.88%\n",
      "Epoch [52/100], Train Loss: 1.4699, Val Loss: 1.4969, Val Accuracy: 95.88%\n",
      "Epoch [53/100], Train Loss: 1.4721, Val Loss: 1.5013, Val Accuracy: 95.36%\n",
      "Epoch [54/100], Train Loss: 1.4776, Val Loss: 1.5013, Val Accuracy: 95.36%\n",
      "Epoch [55/100], Train Loss: 1.4714, Val Loss: 1.4968, Val Accuracy: 95.88%\n",
      "Epoch [56/100], Train Loss: 1.4712, Val Loss: 1.4968, Val Accuracy: 95.88%\n",
      "Epoch [57/100], Train Loss: 1.4724, Val Loss: 1.4969, Val Accuracy: 95.88%\n",
      "Epoch [58/100], Train Loss: 1.4711, Val Loss: 1.4968, Val Accuracy: 95.88%\n",
      "Epoch [59/100], Train Loss: 1.4711, Val Loss: 1.4968, Val Accuracy: 95.88%\n",
      "Epoch [60/100], Train Loss: 1.4699, Val Loss: 1.4968, Val Accuracy: 95.88%\n",
      "Epoch [61/100], Train Loss: 1.4687, Val Loss: 1.4968, Val Accuracy: 95.88%\n",
      "Epoch [62/100], Train Loss: 1.4687, Val Loss: 1.4968, Val Accuracy: 95.88%\n",
      "Epoch [63/100], Train Loss: 1.4699, Val Loss: 1.4968, Val Accuracy: 95.88%\n",
      "Epoch [64/100], Train Loss: 1.4687, Val Loss: 1.4968, Val Accuracy: 95.88%\n",
      "Epoch [65/100], Train Loss: 1.4720, Val Loss: 1.4962, Val Accuracy: 95.88%\n",
      "Epoch [66/100], Train Loss: 1.4751, Val Loss: 1.4969, Val Accuracy: 95.88%\n",
      "Epoch [67/100], Train Loss: 1.4711, Val Loss: 1.4969, Val Accuracy: 95.88%\n",
      "Epoch [68/100], Train Loss: 1.4724, Val Loss: 1.4959, Val Accuracy: 95.88%\n",
      "Epoch [69/100], Train Loss: 1.4723, Val Loss: 1.4927, Val Accuracy: 95.88%\n",
      "Epoch [70/100], Train Loss: 1.4700, Val Loss: 1.4965, Val Accuracy: 95.88%\n",
      "Epoch [71/100], Train Loss: 1.4712, Val Loss: 1.4965, Val Accuracy: 95.88%\n",
      "Epoch [72/100], Train Loss: 1.4732, Val Loss: 1.4967, Val Accuracy: 95.88%\n",
      "Epoch [73/100], Train Loss: 1.4711, Val Loss: 1.4968, Val Accuracy: 95.88%\n",
      "Epoch [74/100], Train Loss: 1.4715, Val Loss: 1.4964, Val Accuracy: 95.88%\n",
      "Epoch [75/100], Train Loss: 1.4898, Val Loss: 1.4963, Val Accuracy: 95.88%\n",
      "Epoch [76/100], Train Loss: 1.4700, Val Loss: 1.4969, Val Accuracy: 95.88%\n",
      "Epoch [77/100], Train Loss: 1.4796, Val Loss: 1.4969, Val Accuracy: 95.88%\n",
      "Epoch [78/100], Train Loss: 1.5514, Val Loss: 1.5282, Val Accuracy: 92.27%\n",
      "Epoch [79/100], Train Loss: 1.5192, Val Loss: 1.4969, Val Accuracy: 95.88%\n",
      "Epoch [80/100], Train Loss: 1.4973, Val Loss: 1.4969, Val Accuracy: 95.88%\n",
      "Epoch [81/100], Train Loss: 1.4887, Val Loss: 1.4968, Val Accuracy: 95.88%\n",
      "Epoch [82/100], Train Loss: 1.4761, Val Loss: 1.4969, Val Accuracy: 95.88%\n",
      "Epoch [83/100], Train Loss: 1.4788, Val Loss: 1.4969, Val Accuracy: 95.88%\n",
      "Epoch [84/100], Train Loss: 1.4724, Val Loss: 1.4969, Val Accuracy: 95.88%\n",
      "Epoch [85/100], Train Loss: 1.4774, Val Loss: 1.4969, Val Accuracy: 95.88%\n",
      "Epoch [86/100], Train Loss: 1.4774, Val Loss: 1.4969, Val Accuracy: 95.88%\n",
      "Epoch [87/100], Train Loss: 1.4755, Val Loss: 1.5058, Val Accuracy: 94.85%\n",
      "Epoch [88/100], Train Loss: 1.5176, Val Loss: 1.4982, Val Accuracy: 95.88%\n",
      "Epoch [89/100], Train Loss: 1.4879, Val Loss: 1.4965, Val Accuracy: 95.88%\n",
      "Epoch [90/100], Train Loss: 1.4749, Val Loss: 1.4967, Val Accuracy: 95.88%\n",
      "Epoch [91/100], Train Loss: 1.4774, Val Loss: 1.4968, Val Accuracy: 95.88%\n",
      "Epoch [92/100], Train Loss: 1.4758, Val Loss: 1.4960, Val Accuracy: 95.88%\n",
      "Epoch [93/100], Train Loss: 1.4699, Val Loss: 1.4944, Val Accuracy: 95.88%\n",
      "Epoch [94/100], Train Loss: 1.4799, Val Loss: 1.4945, Val Accuracy: 95.88%\n",
      "Epoch [95/100], Train Loss: 1.4721, Val Loss: 1.4968, Val Accuracy: 95.88%\n",
      "Epoch [96/100], Train Loss: 1.4787, Val Loss: 1.4968, Val Accuracy: 95.88%\n",
      "Epoch [97/100], Train Loss: 1.4704, Val Loss: 1.4969, Val Accuracy: 95.88%\n",
      "Epoch [98/100], Train Loss: 1.4762, Val Loss: 1.4969, Val Accuracy: 95.88%\n",
      "Epoch [99/100], Train Loss: 1.4724, Val Loss: 1.4969, Val Accuracy: 95.88%\n",
      "Epoch [100/100], Train Loss: 1.4771, Val Loss: 1.4969, Val Accuracy: 95.88%\n"
     ]
    }
   ],
   "source": [
    "criterion = nn.CrossEntropyLoss()  \n",
    "optimizer = optim.Adam(model_torch.parameters(), lr=0.001)\n",
    "\n",
    "# Training function\n",
    "def train_model(model, train_loader, val_loader, criterion, optimizer, num_epochs=30):\n",
    "    model.train()\n",
    "    train_losses = []\n",
    "    val_losses = []\n",
    "    accuracy_torch = []\n",
    "\n",
    "    for epoch in range(num_epochs):\n",
    "        running_loss = 0.0\n",
    "        for inputs, labels in train_loader:\n",
    "            optimizer.zero_grad()\n",
    "\n",
    "            # Forward pass\n",
    "            outputs = model(inputs)\n",
    "            loss = criterion(outputs, labels)\n",
    "\n",
    "            # Backward pass and optimize\n",
    "            loss.backward()\n",
    "            optimizer.step()\n",
    "\n",
    "            running_loss += loss.item()\n",
    "        \n",
    "        # Validation\n",
    "        model.eval()\n",
    "        val_loss = 0.0\n",
    "        correct = 0\n",
    "        total = 0\n",
    "        with torch.no_grad():\n",
    "            for inputs, labels in val_loader:\n",
    "                outputs = model(inputs)\n",
    "                loss = criterion(outputs, labels)  \n",
    "                val_loss += loss.item()\n",
    "                \n",
    "                _, predicted = torch.max(outputs.data, 1)\n",
    "                total += labels.size(0)\n",
    "                correct += (predicted == labels).sum().item()\n",
    "        \n",
    "        train_loss = running_loss / len(train_loader)\n",
    "        val_loss = val_loss / len(val_loader)\n",
    "        accuracy = 100 * correct / total\n",
    "\n",
    "        train_losses.append(train_loss)\n",
    "        val_losses.append(val_loss)\n",
    "        accuracy_torch.append(accuracy)\n",
    "\n",
    "        writer.add_scalar('Loss/train', train_loss, epoch)\n",
    "        writer.add_scalar('Loss/validation', val_loss, epoch)\n",
    "        writer.add_scalar('Accuracy/validation', accuracy, epoch)\n",
    "\n",
    "        print(f\"Epoch [{epoch + 1}/{num_epochs}], Train Loss: {train_loss:.4f}, Val Loss: {val_loss:.4f}, Val Accuracy: {accuracy:.2f}%\")\n",
    "        model.train()\n",
    "\n",
    "    return train_losses, val_losses, accuracy_torch\n",
    "\n",
    "\n",
    "train_losses, val_losses, accuracy_torch = train_model(model_torch, train_loader, val_loader, criterion, optimizer, num_epochs=100)\n",
    "\n",
    "writer.close()"
   ]
  },
  {
   "cell_type": "code",
   "execution_count": 134,
   "metadata": {},
   "outputs": [
    {
     "data": {
      "image/png": "[encoded data removed]",
      "text/plain": [
       "<Figure size 1000x500 with 1 Axes>"
      ]
     },
     "metadata": {},
     "output_type": "display_data"
    }
   ],
   "source": [
    "plt.figure(figsize=(10, 5))\n",
    "plt.plot(train_losses, label='Training Loss')\n",
    "plt.plot(val_losses, label='Validation Loss')\n",
    "# plt.plot(accuracy_torch, label='Validation Loss')\n",
    "plt.xlabel('Epoch')\n",
    "plt.ylabel('Loss')\n",
    "plt.title('Training and Validation Loss Over Epochs')\n",
    "plt.legend()\n",
    "plt.show()"
   ]
  },
  {
   "cell_type": "markdown",
   "metadata": {},
   "source": [
    "## Plot Losses"
   ]
  },
  {
   "cell_type": "code",
   "execution_count": 135,
   "metadata": {},
   "outputs": [
    {
     "ename": "NameError",
     "evalue": "name 'history' is not defined",
     "output_type": "error",
     "traceback": [
      "\u001b[0;31m---------------------------------------------------------------------------\u001b[0m",
      "\u001b[0;31mNameError\u001b[0m                                 Traceback (most recent call last)",
      "Cell \u001b[0;32mIn[135], line 2\u001b[0m\n\u001b[1;32m      1\u001b[0m \u001b[38;5;66;03m# Get training and validation loss from history object\u001b[39;00m\n\u001b[0;32m----> 2\u001b[0m train_loss \u001b[38;5;241m=\u001b[39m \u001b[43mhistory\u001b[49m\u001b[38;5;241m.\u001b[39mhistory[\u001b[38;5;124m'\u001b[39m\u001b[38;5;124mloss\u001b[39m\u001b[38;5;124m'\u001b[39m]\n\u001b[1;32m      3\u001b[0m val_loss \u001b[38;5;241m=\u001b[39m history\u001b[38;5;241m.\u001b[39mhistory[\u001b[38;5;124m'\u001b[39m\u001b[38;5;124mval_loss\u001b[39m\u001b[38;5;124m'\u001b[39m]\n\u001b[1;32m      5\u001b[0m \u001b[38;5;66;03m# Create an array of epochs\u001b[39;00m\n",
      "\u001b[0;31mNameError\u001b[0m: name 'history' is not defined"
     ]
    }
   ],
   "source": [
    "# Get training and validation loss from history object\n",
    "train_loss = history.history['loss']\n",
    "val_loss = history.history['val_loss']\n",
    "\n",
    "# Create an array of epochs\n",
    "epochs = range(1, len(train_loss) + 1)\n",
    "\n",
    "# Plot training and validation loss\n",
    "plt.figure(figsize=(5.2, 5.2))\n",
    "plt.plot(epochs, train_loss, 'bo', label='Training loss')\n",
    "plt.plot(epochs, val_loss, 'b', label='Validation loss')\n",
    "plt.yscale('log') \n",
    "plt.title('Training and Validation Loss')\n",
    "plt.xlabel('Epochs')\n",
    "plt.ylabel('Loss')\n",
    "plt.legend()\n",
    "\n",
    "# Save the plot as a PNG file\n",
    "plt.savefig('training_validation_loss_torch_30epochs.png')\n",
    "\n",
    "# Show plot\n",
    "plt.show()"
   ]
  },
  {
   "cell_type": "markdown",
   "metadata": {},
   "source": [
    "Start tesnorboard"
   ]
  },
  {
   "cell_type": "code",
   "execution_count": null,
   "metadata": {},
   "outputs": [],
   "source": [
    "%tensorboard --logdir logs/fit"
   ]
  },
  {
   "cell_type": "markdown",
   "metadata": {},
   "source": [
    "## Evaluate the model on the validation set"
   ]
  },
  {
   "cell_type": "code",
   "execution_count": 111,
   "metadata": {},
   "outputs": [],
   "source": [
    "# Save the model state dictionary\n",
    "torch.save(model_torch.state_dict(), 'dog_breed_classifier_model.pth')\n",
    "\n",
    "# If you want to save the optimizer state as well\n",
    "checkpoint = {\n",
    "    'model_state_dict': model_torch.state_dict(),\n",
    "    'optimizer_state_dict': optimizer.state_dict()\n",
    "}\n",
    "torch.save(checkpoint, 'dog_breed_classifier_checkpoint.pth')"
   ]
  },
  {
   "cell_type": "markdown",
   "metadata": {},
   "source": [
    "# Predict breed of a random dog from the dataset"
   ]
  },
  {
   "cell_type": "code",
   "execution_count": 115,
   "metadata": {},
   "outputs": [
    {
     "data": {
      "text/plain": [
       "torch_dog_CNN(\n",
       "  (conv1): Conv2d(3, 32, kernel_size=(3, 3), stride=(1, 1))\n",
       "  (pool1): MaxPool2d(kernel_size=2, stride=2, padding=0, dilation=1, ceil_mode=False)\n",
       "  (conv2): Conv2d(32, 64, kernel_size=(3, 3), stride=(1, 1))\n",
       "  (pool2): MaxPool2d(kernel_size=2, stride=2, padding=0, dilation=1, ceil_mode=False)\n",
       "  (conv3): Conv2d(64, 128, kernel_size=(3, 3), stride=(1, 1))\n",
       "  (pool3): MaxPool2d(kernel_size=2, stride=2, padding=0, dilation=1, ceil_mode=False)\n",
       "  (flatten): Flatten(start_dim=1, end_dim=-1)\n",
       "  (fc1): Linear(in_features=36992, out_features=512, bias=True)\n",
       "  (dropout): Dropout(p=0.5, inplace=False)\n",
       "  (fc2): Linear(in_features=512, out_features=10, bias=True)\n",
       ")"
      ]
     },
     "execution_count": 115,
     "metadata": {},
     "output_type": "execute_result"
    }
   ],
   "source": [
    "# Load the model state dictionary\n",
    "model_torch_trained = torch_dog_CNN(classes)\n",
    "model_torch_trained.load_state_dict(torch.load('dog_breed_classifier_model.pth'))\n",
    "model_torch_trained.eval()  # Set the model to evaluation mode\n",
    "\n",
    "# If you saved the optimizer state as well\n",
    "checkpoint = torch.load('dog_breed_classifier_checkpoint.pth')\n",
    "model_torch_trained.load_state_dict(checkpoint['model_state_dict'])\n",
    "optimizer.load_state_dict(checkpoint['optimizer_state_dict'])\n",
    "model_torch_trained.eval()  # Set the model to evaluation mode"
   ]
  },
  {
   "cell_type": "code",
   "execution_count": 128,
   "metadata": {},
   "outputs": [
    {
     "name": "stdout",
     "output_type": "stream",
     "text": [
      "Prediction probabilities: tensor([[0.0853, 0.2320, 0.0853, 0.0853, 0.0853, 0.0853, 0.0853, 0.0853, 0.0853,\n",
      "         0.0853]])\n"
     ]
    },
    {
     "data": {
      "image/png": "[encoded data removed]",
      "text/plain": [
       "<Figure size 640x480 with 1 Axes>"
      ]
     },
     "metadata": {},
     "output_type": "display_data"
    },
    {
     "name": "stdout",
     "output_type": "stream",
     "text": [
      "Predicted class: Boxer\n"
     ]
    }
   ],
   "source": [
    "def predict_random_image(model, X, y, label_encoder, save_dir, device):\n",
    "    # Pick a random image from our dataset\n",
    "    idx = random.randint(0, len(X) - 1)\n",
    "\n",
    "    # img = X[idx].reshape(1, 150, 150, 3)\n",
    "    img = torch.tensor(X[idx]).permute(2, 0, 1).unsqueeze(0).float().to(device)\n",
    "    \n",
    "    # Predict the class of the selected image\n",
    "    model.eval()\n",
    "    with torch.no_grad():\n",
    "        y_pred = model(img)\n",
    "\n",
    "    # Get the predicted class\n",
    "    y_pred = torch.softmax(y_pred, dim=1)\n",
    "    print(f'Prediction probabilities: {y_pred}')\n",
    "    predicted_class = label_encoder.inverse_transform([torch.argmax(y_pred).item()])\n",
    "\n",
    "    # y_pred = model.predict(X[idx].reshape(1, 150, 150, 3))\n",
    "    # print(f'Prediction probabilities: {y_pred}')\n",
    "    # predicted_class = label_encoder.inverse_transform([np.argmax(y_pred)])\n",
    "    \n",
    "    img = Image.fromarray((X[idx] * 255).astype(np.uint8))\n",
    "    # Resize the image to the desired output size\n",
    "    output_size = (500,500)\n",
    "    img = img.resize(output_size, Image.ANTIALIAS)\n",
    "    \n",
    "    plt.imshow(X[idx])\n",
    "    plt.title(f'Actual: {label_encoder.inverse_transform([np.argmax(y[idx])])[0]}')\n",
    "    plt.show()\n",
    "    \n",
    "    # Draw the predicted class on the image\n",
    "    draw = ImageDraw.Draw(img)\n",
    "    font_size = 30\n",
    "    font_path = os.path.join(cv2.__path__[0],'qt','fonts','DejaVuSans.ttf')\n",
    "    font = ImageFont.truetype(font_path, font_size)\n",
    "    text = f'Predicted: {predicted_class[0]}'\n",
    "    textwidth, textheight = draw.textsize(text, font)\n",
    "    width, height = img.size\n",
    "    margin = 10\n",
    "    x = width - textwidth - margin\n",
    "    y = height - textheight - margin\n",
    "\n",
    "    draw.text((x, y), text, font=font, fill=(255, 255, 255, 255))\n",
    "    \n",
    "    save_path = os.path.join(save_dir, f'predicted_{idx}_Orig.png')\n",
    "    img.save(save_path)\n",
    "\n",
    "    # Get the predicted class\n",
    "    predicted_class = label_encoder.inverse_transform([np.argmax(y_pred)])\n",
    "    print(f'Predicted class: {predicted_class[0]}')\n",
    "\n",
    "# Load the trained model\n",
    "model_torch_trained = torch_dog_CNN(classes)\n",
    "model_torch_trained.load_state_dict(torch.load('dog_breed_classifier_model.pth'))\n",
    "device = torch.device('cuda' if torch.cuda.is_available() else 'cpu')\n",
    "model_torch_trained.to(device)\n",
    "\n",
    "pred_dir = './zzz_my_predictions/'\n",
    "\n",
    "# Predict for a random image\n",
    "predict_random_image(model_torch_trained, X_val, y_val, label_encoder, pred_dir, device)"
   ]
  },
  {
   "cell_type": "markdown",
   "metadata": {},
   "source": [
    "## Here I test actual pictures of my dog and see if my model identifies it\n",
    "She is labrador btw ;)"
   ]
  },
  {
   "cell_type": "code",
   "execution_count": 130,
   "metadata": {},
   "outputs": [
    {
     "data": {
      "text/plain": [
       "18"
      ]
     },
     "execution_count": 130,
     "metadata": {},
     "output_type": "execute_result"
    }
   ],
   "source": [
    "test_dir = './Test/'\n",
    "\n",
    "# Check the input shape of the model\n",
    "# input_shape = model.layers[0].input_shape\n",
    "img_height, img_width = 150, 150#input_shape[1], input_shape[2]\n",
    "target_image_size=(img_height, img_width)\n",
    "\n",
    "# Iterate through the images in the test directory and process them\n",
    "test_images = []\n",
    "for filename in os.listdir(test_dir):\n",
    "    img_path = os.path.join(test_dir, filename)\n",
    "    img = Image.open(img_path)\n",
    "    img = img.resize(target_image_size)\n",
    "    img = np.array(img)\n",
    "    img = img / 255.0 # Normalize the image array\n",
    "    test_images.append(img)\n",
    "\n",
    "len(test_images)"
   ]
  },
  {
   "cell_type": "markdown",
   "metadata": {},
   "source": [
    "## Make predictions for my dog "
   ]
  },
  {
   "cell_type": "code",
   "execution_count": 132,
   "metadata": {},
   "outputs": [
    {
     "name": "stdout",
     "output_type": "stream",
     "text": [
      "Prediction probabilities: tensor([[0.0853, 0.0853, 0.0853, 0.0853, 0.2320, 0.0853, 0.0853, 0.0853, 0.0853,\n",
      "         0.0853]])\n",
      "Predicted class: German_Shepherd\n",
      "Prediction probabilities: tensor([[0.0853, 0.0853, 0.0853, 0.0853, 0.0853, 0.0853, 0.0853, 0.2320, 0.0853,\n",
      "         0.0853]])\n",
      "Predicted class: Poodle\n",
      "Prediction probabilities: tensor([[0.0853, 0.2318, 0.0853, 0.0853, 0.0854, 0.0853, 0.0853, 0.0853, 0.0853,\n",
      "         0.0853]])\n",
      "Predicted class: Boxer\n",
      "Prediction probabilities: tensor([[0.0853, 0.0853, 0.0853, 0.0853, 0.0853, 0.0853, 0.0853, 0.0853, 0.0853,\n",
      "         0.2320]])\n",
      "Predicted class: Yorkshire_Terrier\n",
      "Prediction probabilities: tensor([[0.0853, 0.0853, 0.0853, 0.0853, 0.0853, 0.0853, 0.2320, 0.0853, 0.0853,\n",
      "         0.0853]])\n",
      "Predicted class: Labrador_Retriever\n",
      "Prediction probabilities: tensor([[0.2320, 0.0853, 0.0853, 0.0853, 0.0853, 0.0853, 0.0853, 0.0853, 0.0853,\n",
      "         0.0853]])\n",
      "Predicted class: Beagle\n",
      "Prediction probabilities: tensor([[0.0853, 0.0853, 0.0853, 0.0853, 0.0853, 0.0853, 0.0853, 0.0853, 0.2320,\n",
      "         0.0853]])\n",
      "Predicted class: Rottweiler\n",
      "Prediction probabilities: tensor([[0.0853, 0.0853, 0.0853, 0.0853, 0.0853, 0.0853, 0.0853, 0.0853, 0.2320,\n",
      "         0.0853]])\n",
      "Predicted class: Rottweiler\n",
      "Prediction probabilities: tensor([[0.2320, 0.0853, 0.0853, 0.0853, 0.0853, 0.0853, 0.0853, 0.0853, 0.0853,\n",
      "         0.0853]])\n",
      "Predicted class: Beagle\n",
      "Prediction probabilities: tensor([[0.0853, 0.0853, 0.0853, 0.0853, 0.0853, 0.0853, 0.0853, 0.0853, 0.2319,\n",
      "         0.0854]])\n",
      "Predicted class: Rottweiler\n",
      "Prediction probabilities: tensor([[0.0853, 0.0853, 0.0853, 0.0853, 0.0853, 0.0853, 0.0853, 0.0853, 0.0853,\n",
      "         0.2320]])\n",
      "Predicted class: Yorkshire_Terrier\n",
      "Prediction probabilities: tensor([[0.0853, 0.0853, 0.0853, 0.0853, 0.0853, 0.0853, 0.0853, 0.0853, 0.2320,\n",
      "         0.0853]])\n",
      "Predicted class: Rottweiler\n",
      "Prediction probabilities: tensor([[0.0862, 0.0854, 0.0854, 0.0854, 0.2303, 0.0854, 0.0854, 0.0854, 0.0854,\n",
      "         0.0854]])\n",
      "Predicted class: German_Shepherd\n",
      "Prediction probabilities: tensor([[0.0853, 0.0853, 0.0853, 0.0853, 0.0853, 0.0853, 0.0853, 0.0853, 0.0853,\n",
      "         0.2320]])\n",
      "Predicted class: Yorkshire_Terrier\n",
      "Prediction probabilities: tensor([[0.2320, 0.0853, 0.0853, 0.0853, 0.0853, 0.0853, 0.0853, 0.0853, 0.0853,\n",
      "         0.0853]])\n",
      "Predicted class: Beagle\n",
      "Prediction probabilities: tensor([[0.0853, 0.0853, 0.0853, 0.0853, 0.2320, 0.0853, 0.0853, 0.0853, 0.0853,\n",
      "         0.0853]])\n",
      "Predicted class: German_Shepherd\n",
      "Prediction probabilities: tensor([[0.0853, 0.0853, 0.0853, 0.0853, 0.0853, 0.0853, 0.2320, 0.0853, 0.0853,\n",
      "         0.0853]])\n",
      "Predicted class: Labrador_Retriever\n",
      "Prediction probabilities: tensor([[0.0853, 0.0853, 0.0853, 0.0853, 0.0853, 0.0853, 0.2320, 0.0853, 0.0853,\n",
      "         0.0853]])\n",
      "Predicted class: Labrador_Retriever\n"
     ]
    }
   ],
   "source": [
    "def predict_my_test_image(model, X, label_encoder, idx, save_dir, training_images):\n",
    "    os.makedirs(save_dir, exist_ok=True)\n",
    "\n",
    "    # img = X[idx].reshape(1, 150, 150, 3)\n",
    "    img = torch.tensor(X[idx]).permute(2, 0, 1).unsqueeze(0).float().to(device)\n",
    "    \n",
    "    # Predict the class of the selected image\n",
    "    model.eval()\n",
    "    with torch.no_grad():\n",
    "        y_pred = model(img)\n",
    "\n",
    "    # Get the predicted class\n",
    "    y_pred = torch.softmax(y_pred, dim=1)\n",
    "    print(f'Prediction probabilities: {y_pred}')\n",
    "    predicted_class = label_encoder.inverse_transform([torch.argmax(y_pred).item()])\n",
    "\n",
    "    # Get the predicted class\n",
    "    predicted_class = label_encoder.inverse_transform([np.argmax(y_pred)])\n",
    "    print(f'Predicted class: {predicted_class[0]}')\n",
    "\n",
    "    # y_pred = model.predict(X[idx].reshape(1, 150, 150, 3))\n",
    "    # print(f'Prediction probabilities: {y_pred}')\n",
    "    # predicted_class = label_encoder.inverse_transform([np.argmax(y_pred)])\n",
    "    \n",
    "    img = Image.fromarray((X[idx] * 255).astype(np.uint8))\n",
    "    # Resize the image to the desired output size\n",
    "    output_size = (500,500)\n",
    "    img = img.resize(output_size, Image.ANTIALIAS)\n",
    "    \n",
    "    # plt.imshow(X[idx])\n",
    "    # # plt.title(f'Actual: {label_encoder.inverse_transform([np.argmax(y[idx])])[0]}')\n",
    "    # plt.show()\n",
    "    \n",
    "    # Draw the predicted class on the image\n",
    "    draw = ImageDraw.Draw(img)\n",
    "    font_size = 30\n",
    "    font_path = os.path.join(cv2.__path__[0],'qt','fonts','DejaVuSans.ttf')\n",
    "    font = ImageFont.truetype(font_path, font_size)\n",
    "    text = f'Predicted: {predicted_class[0]}'\n",
    "    textwidth, textheight = draw.textsize(text, font)\n",
    "    width, height = img.size\n",
    "    margin = 10\n",
    "    x = width - textwidth - margin\n",
    "    y = height - textheight - margin\n",
    "\n",
    "    draw.text((x, y), text, font=font, fill=(255, 255, 255, 255))\n",
    "    \n",
    "    save_path = os.path.join(save_dir, f'predicted_{idx}_Orig.png')\n",
    "    img.save(save_path)\n",
    "\n",
    "# Predict for a random image\n",
    "for img_id in range(len(test_images)):\n",
    "    predict_my_test_image(model_torch_trained, test_images, label_encoder, img_id, pred_dir, X)"
   ]
  },
  {
   "cell_type": "markdown",
   "metadata": {},
   "source": [
    "## Plot Losses"
   ]
  }
 ],
 "metadata": {
  "interpreter": {
   "hash": "31f2aee4e71d21fbe5cf8b01ff0e069b9275f58929596ceb00d14d90e3e16cd6"
  },
  "kernelspec": {
   "display_name": "Python 3.8.10 64-bit",
   "name": "python3"
  },
  "language_info": {
   "codemirror_mode": {
    "name": "ipython",
    "version": 3
   },
   "file_extension": ".py",
   "mimetype": "text/x-python",
   "name": "python",
   "nbconvert_exporter": "python",
   "pygments_lexer": "ipython3",
   "version": "3.8.10"
  },
  "orig_nbformat": 4
 },
 "nbformat": 4,
 "nbformat_minor": 2
}
